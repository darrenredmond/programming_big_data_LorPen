{
 "cells": [
  {
   "cell_type": "markdown",
   "metadata": {},
   "source": [
    "Please find below just some details that might be worth mentioning, in relation to the calculator.py, test_calculator.py and calc_interface.py (optional code):"
   ]
  },
  {
   "cell_type": "markdown",
   "metadata": {},
   "source": [
    "<b>I.</b> For calculator.py, I decided to implement the <b>conversion to float directly into the functions</b>:"
   ]
  },
  {
   "cell_type": "code",
   "execution_count": null,
   "metadata": {
    "collapsed": true
   },
   "outputs": [],
   "source": [
    "def divide(first,second):\n",
    "    fl_first = float(first)\n",
    "    fl_second = float(second)\n",
    "    if fl_second == 0:\n",
    "        return 'undefined'\n",
    "    return round(fl_first / fl_second,5)"
   ]
  },
  {
   "cell_type": "markdown",
   "metadata": {},
   "source": [
    "This because I find a bit odd that otherwise (for example) testing a division such as 3/2 in test_calculator.py, the expected correct result would be 1.<br>Even though is probably redundant for functions like \"add\", I still implemented the same conversion for all functions, for code consistency."
   ]
  },
  {
   "cell_type": "markdown",
   "metadata": {},
   "source": [
    "<br>"
   ]
  },
  {
   "cell_type": "markdown",
   "metadata": {},
   "source": [
    "<b>II.</b> <b>\"divide\" and \"squareRoot\"</b> where the only 2 functions needing the implementation of a <b>special case</b> ('undefined'):<br>\n",
    "   - the <b>division by 0 for \"divide\"</b>\n",
    "   - the square root of a <b>negative number for \"squareRoot\"</b>\n",
    "   \n",
    "  The first can be already assessed in the code above. Please find below the \"squareRoot\" code too:"
   ]
  },
  {
   "cell_type": "code",
   "execution_count": null,
   "metadata": {
    "collapsed": true
   },
   "outputs": [],
   "source": [
    "def squareRoot(first):\n",
    "    fl_first = float(first)\n",
    "    if fl_first < 0:\n",
    "        return 'undefined'\n",
    "    return round(math.sqrt(fl_first),3)"
   ]
  },
  {
   "cell_type": "markdown",
   "metadata": {},
   "source": [
    "<br>"
   ]
  },
  {
   "cell_type": "markdown",
   "metadata": {},
   "source": [
    "<b>III.</b> Through testing, I have found out that functions like <b>\"sine\" and \"cosine\"</b> were <b>particularly sensitive to approximation</b>.\n",
    "\n",
    "  That <b>brought me to use</b> some particularly strict <b>round function</b> (2 digits), specifically for those two functions.<br>I then decided to implement some rounding in other functions too (3 digits for \"squareRoot\" and 5 for most of the other functions).\n",
    "  \n",
    "  Please find some examples below:\n",
    "    \n",
    "  "
   ]
  },
  {
   "cell_type": "code",
   "execution_count": null,
   "metadata": {
    "collapsed": true
   },
   "outputs": [],
   "source": [
    "def sine(first):\n",
    "    fl_first = float(first)\n",
    "    return round(math.sin(fl_first), 2)"
   ]
  },
  {
   "cell_type": "code",
   "execution_count": null,
   "metadata": {
    "collapsed": true
   },
   "outputs": [],
   "source": [
    "def square(first):\n",
    "    fl_first = float(first)\n",
    "    return round(fl_first * fl_first,5)"
   ]
  },
  {
   "cell_type": "markdown",
   "metadata": {},
   "source": [
    "<br>"
   ]
  },
  {
   "cell_type": "markdown",
   "metadata": {},
   "source": [
    "<b>IV.</b> For the (optional) <b>calculator interface program</b>, I believe it is all coded quite plainly and \"by the book\". I just wanted to point out 2 minor details:\n",
    " - I divided the code in 2 main cases, depending on whether the <b>functions requires the input of 1 or either 2 variables</b>:"
   ]
  },
  {
   "cell_type": "code",
   "execution_count": null,
   "metadata": {
    "collapsed": true
   },
   "outputs": [],
   "source": [
    "#2 numbers required\n",
    "\n",
    "    elif op_choice in ('+','-','*','/','exp'):\n",
    "        \n",
    "        print \"Thank you for your choice.\\n\"\n",
    "\n",
    "        while True:\n",
    "\n",
    "            num1 = raw_input('Please enter the first (or base) number.\\n')\n",
    "            num2 = raw_input('Please enter the second (or power) number.\\n')"
   ]
  },
  {
   "cell_type": "code",
   "execution_count": null,
   "metadata": {
    "collapsed": true
   },
   "outputs": [],
   "source": [
    "#1 number required\n",
    "\n",
    "    elif op_choice in ('sqr','squ','cub','sin','cos'):\n",
    "\n",
    "        print \"Thank you for your choice.\\n\"               \n",
    "\n",
    "        while True:\n",
    "\n",
    "            num1 = raw_input('Please enter your number.\\n')\n",
    "\n"
   ]
  },
  {
   "cell_type": "markdown",
   "metadata": {},
   "source": [
    " - I decided to show all in <b>upper case</b> the <b>results</b> and the <b>error messages</b>, for immediate clarity.:"
   ]
  },
  {
   "cell_type": "code",
   "execution_count": null,
   "metadata": {
    "collapsed": true
   },
   "outputs": [],
   "source": [
    "#result example\n",
    "\n",
    "    print \"Your {} result is {}.\\n\".format(operation,result).upper()"
   ]
  },
  {
   "cell_type": "code",
   "execution_count": null,
   "metadata": {
    "collapsed": true
   },
   "outputs": [],
   "source": [
    "#error example\n",
    "\n",
    "    print \"You need to enter numbers.\\n\".upper()"
   ]
  },
  {
   "cell_type": "code",
   "execution_count": null,
   "metadata": {
    "collapsed": true
   },
   "outputs": [],
   "source": [
    "#error example\n",
    "\n",
    "    else:\n",
    "        print \"Invalid choice. Please try again.\\n\".upper()\n",
    "        continue"
   ]
  }
 ],
 "metadata": {
  "kernelspec": {
   "display_name": "Python 2",
   "language": "python",
   "name": "python2"
  },
  "language_info": {
   "codemirror_mode": {
    "name": "ipython",
    "version": 2
   },
   "file_extension": ".py",
   "mimetype": "text/x-python",
   "name": "python",
   "nbconvert_exporter": "python",
   "pygments_lexer": "ipython2",
   "version": "2.7.13"
  }
 },
 "nbformat": 4,
 "nbformat_minor": 2
}
